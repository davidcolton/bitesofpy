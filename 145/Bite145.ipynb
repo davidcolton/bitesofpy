{
 "cells": [
  {
   "cell_type": "code",
   "execution_count": null,
   "metadata": {},
   "outputs": [],
   "source": [
    "from collections import namedtuple\n",
    "from datetime import date\n",
    "\n",
    "import pandas as pd\n",
    "pd.set_option('display.max_columns', None)  \n",
    "pd.set_option('display.max_rows', None)  \n",
    "\n",
    "DATA_FILE = \"http://projects.bobbelderbos.com/pcc/weather-ann-arbor.csv\"\n",
    "STATION = namedtuple(\"Station\", \"ID Date Value\")"
   ]
  },
  {
   "cell_type": "code",
   "execution_count": null,
   "metadata": {},
   "outputs": [],
   "source": [
    "df = pd.read_csv(DATA_FILE)"
   ]
  },
  {
   "cell_type": "code",
   "execution_count": null,
   "metadata": {},
   "outputs": [],
   "source": [
    "df['date_obj'] = pd.to_datetime(df.Date)\n",
    "df['year'] = df['Date'].str[:4]\n",
    "df['month_day'] = df['Date'].str[5:]\n",
    "df['Data_Value'] = df['Data_Value'] /10\n",
    "df = df[df['month_day'] != '02-29']"
   ]
  },
  {
   "cell_type": "code",
   "execution_count": null,
   "metadata": {},
   "outputs": [],
   "source": [
    "unique_dates = sorted(df['month_day'].unique())\n",
    "unique_ids = sorted(df['ID'].unique())"
   ]
  },
  {
   "cell_type": "code",
   "execution_count": null,
   "metadata": {},
   "outputs": [],
   "source": [
    "date_match = df['month_day'] == '01-01'\n",
    "id_match = df['ID'] == 'USC00205050'\n",
    "mask = date_match & id_match"
   ]
  },
  {
   "cell_type": "code",
   "execution_count": null,
   "metadata": {},
   "outputs": [],
   "source": [
    "df[mask]"
   ]
  },
  {
   "cell_type": "code",
   "execution_count": null,
   "metadata": {},
   "outputs": [],
   "source": []
  },
  {
   "cell_type": "code",
   "execution_count": null,
   "metadata": {},
   "outputs": [],
   "source": [
    "record_dates = []\n",
    "\n",
    "for my_date in unique_dates:\n",
    "    for my_id in unique_ids:\n",
    "        df_temp = df[(df['month_day'] == my_date) & (df['ID'] == my_id)].copy()\n",
    "        df_temp = df_temp.sort_values(by=['Data_Value', 'Date'], ascending=[False, True])\n",
    "        # Max value\n",
    "        try:\n",
    "            print(my_date, my_id, df_temp.iloc[0,:]['year'], df_temp.iloc[0,:]['year'])\n",
    "            if df_temp.iloc[0,:]['year'] == '2015': \n",
    "                my_date_obj = df_temp.iloc[0,:]['date_obj']\n",
    "                my_data_value = df_temp.iloc[0,:]['Data_Value']\n",
    "                record_dates.append(STATION(my_id, my_date_obj, my_data_value))\n",
    "            # Min value\n",
    "            if df_temp.iloc[-1,:]['year'] == '2015':\n",
    "                my_date_obj = df_temp.iloc[-1,:]['date_obj']\n",
    "                my_data_value = df_temp.iloc[-1,:]['Data_Value']\n",
    "                record_dates.append(STATION(my_id, my_date_obj, my_data_value))\n",
    "        except IndexError:\n",
    "            pass\n",
    "            \n",
    "print(len(record_dates))\n",
    "        "
   ]
  },
  {
   "cell_type": "code",
   "execution_count": null,
   "metadata": {},
   "outputs": [],
   "source": [
    "min(record_dates, key=lambda k: k.Value)"
   ]
  },
  {
   "cell_type": "code",
   "execution_count": null,
   "metadata": {},
   "outputs": [],
   "source": []
  },
  {
   "cell_type": "code",
   "execution_count": null,
   "metadata": {},
   "outputs": [],
   "source": []
  },
  {
   "cell_type": "code",
   "execution_count": null,
   "metadata": {},
   "outputs": [],
   "source": [
    "temp = df[(df['month_day'] == '01-01') & (df['ID'] == 'USC00207308')].copy()"
   ]
  },
  {
   "cell_type": "code",
   "execution_count": null,
   "metadata": {},
   "outputs": [],
   "source": [
    "temp.sort_values(by=['Data_Value', 'Date'], ascending=[False, True])"
   ]
  },
  {
   "cell_type": "code",
   "execution_count": null,
   "metadata": {},
   "outputs": [],
   "source": [
    "temp.iloc[0,:]['Date']"
   ]
  },
  {
   "cell_type": "code",
   "execution_count": null,
   "metadata": {},
   "outputs": [],
   "source": []
  },
  {
   "cell_type": "code",
   "execution_count": null,
   "metadata": {},
   "outputs": [],
   "source": []
  },
  {
   "cell_type": "code",
   "execution_count": null,
   "metadata": {},
   "outputs": [],
   "source": []
  },
  {
   "cell_type": "code",
   "execution_count": null,
   "metadata": {},
   "outputs": [],
   "source": []
  },
  {
   "cell_type": "code",
   "execution_count": null,
   "metadata": {},
   "outputs": [],
   "source": [
    "df_temp = df.copy()\n",
    "\n",
    "idx_min = df_temp.groupby(['month_day'])['Data_Value'].transform(min) == df_temp['Data_Value']\n",
    "idx_max = df_temp.groupby(['month_day'])['Data_Value'].transform(max) == df_temp['Data_Value']\n",
    "year_mask = df['year'] == '2015'\n",
    "\n",
    "mask = (idx_min | idx_max) & year_mask\n",
    "\n",
    "df_temp[mask].sort_values(by=['Data_Value'], ascending=[False])"
   ]
  },
  {
   "cell_type": "code",
   "execution_count": null,
   "metadata": {},
   "outputs": [],
   "source": [
    "sorted(df_minmax['month_day'].unique())[:10]"
   ]
  },
  {
   "cell_type": "code",
   "execution_count": null,
   "metadata": {},
   "outputs": [],
   "source": [
    "sorted(df_minmax['ID'].unique())"
   ]
  },
  {
   "cell_type": "code",
   "execution_count": null,
   "metadata": {},
   "outputs": [],
   "source": [
    "df_pre_2015 = df[df.Date < pd.Timestamp(2015, 1, 1)].copy()\n",
    "df_2015 = df[df.Date >= pd.Timestamp(2015, 1, 1)].copy()"
   ]
  },
  {
   "cell_type": "code",
   "execution_count": null,
   "metadata": {},
   "outputs": [],
   "source": [
    "df_pre_2015_minmax"
   ]
  },
  {
   "cell_type": "code",
   "execution_count": null,
   "metadata": {},
   "outputs": [],
   "source": [
    "df_2015_minmax"
   ]
  },
  {
   "cell_type": "code",
   "execution_count": null,
   "metadata": {},
   "outputs": [],
   "source": [
    "df_pre_2015 = df_minmax[df_minmax.Date < pd.Timestamp(2015, 1, 1)].copy()\n",
    "df_2015 = df_minmax[df_minmax.Date >= pd.Timestamp(2015, 1, 1)].copy()"
   ]
  },
  {
   "cell_type": "code",
   "execution_count": null,
   "metadata": {},
   "outputs": [],
   "source": [
    "df_pre_2015"
   ]
  },
  {
   "cell_type": "code",
   "execution_count": null,
   "metadata": {},
   "outputs": [],
   "source": [
    "df_2015[df_2015.Date == pd.Timestamp(2015, 7, 29)]"
   ]
  },
  {
   "cell_type": "code",
   "execution_count": null,
   "metadata": {},
   "outputs": [],
   "source": [
    "for index, row in df_pre_2015.iterrows():\n",
    "    pre_id = row['ID']\n",
    "    pre_ele = row['Element']\n",
    "    pre_val = row['Data_Value']\n",
    "    for index_2015, row_2015 in df_2015.loc[\n",
    "        (df_2015['ID'] == pre_id) &\n",
    "        (df_2015['Element'] == pre_ele)]:\n"
   ]
  },
  {
   "cell_type": "code",
   "execution_count": null,
   "metadata": {},
   "outputs": [],
   "source": [
    "test"
   ]
  },
  {
   "cell_type": "code",
   "execution_count": null,
   "metadata": {},
   "outputs": [],
   "source": []
  }
 ],
 "metadata": {
  "kernelspec": {
   "display_name": "Python 3",
   "language": "python",
   "name": "python3"
  },
  "language_info": {
   "codemirror_mode": {
    "name": "ipython",
    "version": 3
   },
   "file_extension": ".py",
   "mimetype": "text/x-python",
   "name": "python",
   "nbconvert_exporter": "python",
   "pygments_lexer": "ipython3",
   "version": "3.7.4"
  }
 },
 "nbformat": 4,
 "nbformat_minor": 2
}
