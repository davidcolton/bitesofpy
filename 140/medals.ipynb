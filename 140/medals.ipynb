{
 "cells": [
  {
   "cell_type": "code",
   "execution_count": 54,
   "metadata": {},
   "outputs": [],
   "source": [
    "import pandas as pd\n",
    "import requests\n",
    "\n",
    "data = \"https://bites-data.s3.us-east-2.amazonaws.com/summer.csv\"\n",
    "\n",
    "\n",
    "def athletes_most_medals(data=data):\n",
    "    # Read the data\n",
    "    df = pd.read_csv(data)\n",
    "    \n",
    "    # Create group by objects\n",
    "    df_men = df[df.Gender == 'Men'].groupby('Athlete').agg({'Medal': 'count'})\n",
    "    df_women = df[df.Gender == 'Women'].groupby('Athlete').agg({'Medal': 'count'})\n",
    "    \n",
    "    # Add max of Men and Women to a dict\n",
    "    results_dict = dict()\n",
    "    results_dict.update(df_men[df_men.Medal == df_men.Medal.max()].to_dict()['Medal'])\n",
    "    results_dict.update(df_women[df_women.Medal == df_women.Medal.max()].to_dict()['Medal'])\n",
    "\n",
    "    return results_dict"
   ]
  },
  {
   "cell_type": "code",
   "execution_count": 55,
   "metadata": {},
   "outputs": [
    {
     "data": {
      "text/plain": [
       "{'PHELPS, Michael': 22, 'LATYNINA, Larisa': 18}"
      ]
     },
     "execution_count": 55,
     "metadata": {},
     "output_type": "execute_result"
    }
   ],
   "source": [
    "athletes_most_medals()"
   ]
  },
  {
   "cell_type": "code",
   "execution_count": null,
   "metadata": {},
   "outputs": [],
   "source": []
  }
 ],
 "metadata": {
  "kernelspec": {
   "display_name": "Python 3",
   "language": "python",
   "name": "python3"
  },
  "language_info": {
   "codemirror_mode": {
    "name": "ipython",
    "version": 3
   },
   "file_extension": ".py",
   "mimetype": "text/x-python",
   "name": "python",
   "nbconvert_exporter": "python",
   "pygments_lexer": "ipython3",
   "version": "3.7.4"
  }
 },
 "nbformat": 4,
 "nbformat_minor": 2
}
