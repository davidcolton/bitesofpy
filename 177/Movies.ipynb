{
 "cells": [
  {
   "cell_type": "code",
   "execution_count": 24,
   "metadata": {},
   "outputs": [
    {
     "name": "stdout",
     "output_type": "stream",
     "text": [
      "125 ms ± 5.96 ms per loop (mean ± std. dev. of 7 runs, 10 loops each)\n"
     ]
    }
   ],
   "source": [
    "%%timeit\n",
    "\n",
    "import pandas as pd\n",
    "\n",
    "df = pd.read_excel('./movies.xlsx', skiprows=7, usecols=[2, 3] )\n",
    "\n",
    "df = df[df.genres != '(no genres listed)']\n",
    "\n",
    "# Create new Dataframe\n",
    "def extract_values(row):\n",
    "    genres = row['genres'].split('|')\n",
    "    movie = row['movie']\n",
    "    return [[genre, movie] for genre in genres]\n",
    "\n",
    "data = df.apply(extract_values, axis=1)\n",
    "\n",
    "df_new = pd.DataFrame.from_records([y for x in data for y in x], columns=['genres', 'movie'])\n",
    "\n",
    "df_new.groupby('genres').count().sort_values('movie', ascending=False)"
   ]
  },
  {
   "cell_type": "code",
   "execution_count": 25,
   "metadata": {},
   "outputs": [
    {
     "name": "stdout",
     "output_type": "stream",
     "text": [
      "42.3 ms ± 2.65 ms per loop (mean ± std. dev. of 7 runs, 10 loops each)\n"
     ]
    }
   ],
   "source": [
    "%%timeit\n",
    "\n",
    "import pandas as pd\n",
    "import numpy as np\n",
    "\n",
    "movie_excel_file = \"./movies.xlsx\"\n",
    "\n",
    "\n",
    "def explode(df, lst_cols, fill_value='', preserve_index=False):\n",
    "    \"\"\"Helper found on SO to split pipe (|) separted genres into\n",
    "       multiple rows so it becomes easier to group the data -\n",
    "       https://stackoverflow.com/a/40449726\n",
    "    \"\"\"\n",
    "    if(lst_cols is not None and len(lst_cols) > 0 and not\n",
    "       isinstance(lst_cols, (list, tuple, np.ndarray, pd.Series))):\n",
    "        lst_cols = [lst_cols]\n",
    "    idx_cols = df.columns.difference(lst_cols)\n",
    "    lens = df[lst_cols[0]].str.len()\n",
    "    idx = np.repeat(df.index.values, lens)\n",
    "    res = (pd.DataFrame({\n",
    "                col:np.repeat(df[col].values, lens)\n",
    "                for col in idx_cols},\n",
    "                index=idx)\n",
    "             .assign(**{col:np.concatenate(df.loc[lens>0, col].values)\n",
    "                            for col in lst_cols}))\n",
    "    if (lens == 0).any():\n",
    "        res = (res.append(df.loc[lens==0, idx_cols], sort=False)\n",
    "                  .fillna(fill_value))\n",
    "    res = res.sort_index()\n",
    "    if not preserve_index:\n",
    "        res = res.reset_index(drop=True)\n",
    "    return res\n",
    "\n",
    "\n",
    "def group_by_genre(data=movie_excel_file):\n",
    "    \"\"\"Takes movies data excel file (https://bit.ly/2BXra4w) and loads it\n",
    "       into a DataFrame (df).\n",
    "\n",
    "       Explode genre1|genre2|genre3 into separte rows using the provided\n",
    "       \"explode\" function we found here: https://bit.ly/2Udfkdt\n",
    "\n",
    "       Filters out '(no genres listed)' and groups the df by genre\n",
    "       counting the movies in each genre.\n",
    "\n",
    "       Return the new df of shape (rows, cols) = (19, 1) sorted by movie count\n",
    "       descending (example output: https://bit.ly/2ILODva)\n",
    "    \"\"\"\n",
    "    movies = pd.read_excel(movie_excel_file, skiprows=7, usecols=[2, 3])\n",
    "    movies.genres = movies.genres.str.split('|')\n",
    "    movies = explode(movies, ['genres'])\n",
    "    movies = movies[movies['genres'] != '(no genres listed)']\n",
    "    grouped = movies.groupby(['genres']).count().sort_values(by=\"movie\")\n",
    "    return grouped.sort_values('movie', ascending=False)\n",
    "\n",
    "group_by_genre()"
   ]
  },
  {
   "cell_type": "code",
   "execution_count": null,
   "metadata": {},
   "outputs": [],
   "source": []
  }
 ],
 "metadata": {
  "kernelspec": {
   "display_name": "Python 3",
   "language": "python",
   "name": "python3"
  },
  "language_info": {
   "codemirror_mode": {
    "name": "ipython",
    "version": 3
   },
   "file_extension": ".py",
   "mimetype": "text/x-python",
   "name": "python",
   "nbconvert_exporter": "python",
   "pygments_lexer": "ipython3",
   "version": "3.7.4"
  }
 },
 "nbformat": 4,
 "nbformat_minor": 2
}
