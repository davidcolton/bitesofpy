{
 "cells": [
  {
   "cell_type": "code",
   "execution_count": null,
   "metadata": {},
   "outputs": [],
   "source": [
    "import pandas as pd\n",
    "\n",
    "data = \"https://s3.us-east-2.amazonaws.com/bites-data/menu.csv\"\n",
    "# load the data in once, functions will use this module object\n",
    "df = pd.read_csv(data)\n",
    "\n",
    "pd.options.mode.chained_assignment = None  # ignore warnings\n"
   ]
  },
  {
   "cell_type": "code",
   "execution_count": null,
   "metadata": {},
   "outputs": [],
   "source": [
    "df.dtypes"
   ]
  },
  {
   "cell_type": "code",
   "execution_count": null,
   "metadata": {},
   "outputs": [],
   "source": [
    "def get_food_most_calories(df=df):\n",
    "    \"\"\"Return the food \"Item\" string with most calories\"\"\"\n",
    "    return df['Item'][df['Calories'] == df['Calories'].max()].values[0]"
   ]
  },
  {
   "cell_type": "code",
   "execution_count": null,
   "metadata": {},
   "outputs": [],
   "source": [
    "get_food_most_calories(df)"
   ]
  },
  {
   "cell_type": "code",
   "execution_count": null,
   "metadata": {},
   "outputs": [],
   "source": [
    "df.dtypes"
   ]
  },
  {
   "cell_type": "code",
   "execution_count": null,
   "metadata": {},
   "outputs": [],
   "source": [
    "df.head()"
   ]
  },
  {
   "cell_type": "code",
   "execution_count": null,
   "metadata": {},
   "outputs": [],
   "source": [
    "# Create a mask to identify zero calorie, tea, coffee and beverages\n",
    "zero_cal = df['Calories'] == 0\n",
    "tea_coffee = df['Category'] == 'Coffee & Tea'\n",
    "beverages = df['Category'] == 'Beverages'\n",
    "exclude = zero_cal | tea_coffee | beverages\n",
    "\n",
    "\n",
    "# df = df[~exclude]\n"
   ]
  },
  {
   "cell_type": "code",
   "execution_count": null,
   "metadata": {},
   "outputs": [],
   "source": [
    "df = df[~zero_cal]"
   ]
  },
  {
   "cell_type": "code",
   "execution_count": null,
   "metadata": {},
   "outputs": [],
   "source": [
    "df['pc_ratio'] = df['Protein'] / df['Calories']"
   ]
  },
  {
   "cell_type": "code",
   "execution_count": null,
   "metadata": {},
   "outputs": [],
   "source": [
    "top_pc_ratio = df.sort_values(by='pc_ratio', ascending=False).head(5)"
   ]
  },
  {
   "cell_type": "code",
   "execution_count": null,
   "metadata": {},
   "outputs": [],
   "source": [
    "[row['Item'] for index, row in  top_pc_ratio.iterrows()]"
   ]
  },
  {
   "cell_type": "code",
   "execution_count": null,
   "metadata": {},
   "outputs": [],
   "source": []
  },
  {
   "cell_type": "code",
   "execution_count": null,
   "metadata": {},
   "outputs": [],
   "source": []
  },
  {
   "cell_type": "code",
   "execution_count": null,
   "metadata": {},
   "outputs": [],
   "source": [
    "def get_bodybuilder_friendly_foods(df=df, excl_drinks=False):\n",
    "    \"\"\"Calulate the Protein/Calories ratio of foods and return the\n",
    "       5 foods with the best ratio.\n",
    "\n",
    "       This function has a excl_drinks switch which, when turned on,\n",
    "       should exclude 'Coffee & Tea' and 'Beverages' from this top 5.\n",
    "\n",
    "       You will probably need to filter out foods with 0 calories to get the\n",
    "       right results.\n",
    "\n",
    "       Return a list of the top 5 foot Item stings.\"\"\"\n",
    "    # Create a mask to identify zero calorie, tea, coffee and beverages\n",
    "    zero_cal = df[\"Calories\"] == 0\n",
    "    tea_coffee = df[\"Category\"] == \"Coffee & Tea\"\n",
    "    beverages = df[\"Category\"] == \"Beverages\"\n",
    "    exclude = zero_cal | tea_coffee | beverages\n",
    "\n",
    "    # Should all drinks be excluded\n",
    "    if excl_drinks == bool(True):\n",
    "        df = df[~exclude]\n",
    "    else:\n",
    "        # Just exclude Zero Calorie Items\n",
    "        df = df[~zero_cal]\n",
    "\n",
    "    # Add the Protein / Calorie Ratio\n",
    "    df[\"pc_ratio\"] = df[\"Protein\"] / df[\"Calories\"]\n",
    "\n",
    "    # Get the top 5 Protein / Calorie Ratio and Return\n",
    "    top_pc_ratio = df.sort_values(by=\"pc_ratio\", ascending=False).head(5)\n",
    "    return [row[\"Item\"] for index, row in top_pc_ratio.iterrows()]\n"
   ]
  }
 ],
 "metadata": {
  "kernelspec": {
   "display_name": "Python 3",
   "language": "python",
   "name": "python3"
  },
  "language_info": {
   "codemirror_mode": {
    "name": "ipython",
    "version": 3
   },
   "file_extension": ".py",
   "mimetype": "text/x-python",
   "name": "python",
   "nbconvert_exporter": "python",
   "pygments_lexer": "ipython3",
   "version": "3.7.4"
  }
 },
 "nbformat": 4,
 "nbformat_minor": 2
}
