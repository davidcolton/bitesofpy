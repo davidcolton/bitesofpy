{
 "cells": [
  {
   "cell_type": "code",
   "execution_count": 1,
   "metadata": {},
   "outputs": [],
   "source": [
    "import pandas as pd"
   ]
  },
  {
   "cell_type": "code",
   "execution_count": 12,
   "metadata": {},
   "outputs": [],
   "source": [
    "df = pd.read_csv('https://bites-data.s3.us-east-2.amazonaws.com/xyz.csv')"
   ]
  },
  {
   "cell_type": "code",
   "execution_count": 13,
   "metadata": {},
   "outputs": [],
   "source": [
    "df['DollarFlux'] = df['12/31/20'] - df['12/31/19']\n",
    "df['PercentageFlux'] = df['DollarFlux'] / df['12/31/19']"
   ]
  },
  {
   "cell_type": "code",
   "execution_count": 14,
   "metadata": {},
   "outputs": [
    {
     "data": {
      "text/plain": [
       "[('Cash', 120000, 115000, 5000, 0.043478260869565216),\n",
       " ('Accounts Receivable', 85000, 75000, 10000, 0.13333333333333333),\n",
       " ('Prepaids', 800, 2, 798, 399.0),\n",
       " ('Inventory', 49000, 55000, -6000, -0.10909090909090909),\n",
       " ('Property', 666000, 690000, -24000, -0.034782608695652174),\n",
       " ('Notes Receivable', 235000, 23000, 212000, 9.217391304347826),\n",
       " ('Accounts Payable', -400000, -386000, -14000, 0.03626943005181347),\n",
       " ('Accrued Payroll', -350000, -320000, -30000, 0.09375),\n",
       " ('Notes Payable', -45000, -45000, 0, -0.0),\n",
       " ('Capital', -15000, -10000, -5000, 0.5),\n",
       " ('Retained Earnings', -345800, -197002, -148798, 0.7553121288108751)]"
      ]
     },
     "execution_count": 14,
     "metadata": {},
     "output_type": "execute_result"
    }
   ],
   "source": [
    "list(df.itertuples(index=False, name=None))"
   ]
  },
  {
   "cell_type": "code",
   "execution_count": null,
   "metadata": {},
   "outputs": [],
   "source": []
  }
 ],
 "metadata": {
  "kernelspec": {
   "display_name": "Python 3",
   "language": "python",
   "name": "python3"
  },
  "language_info": {
   "codemirror_mode": {
    "name": "ipython",
    "version": 3
   },
   "file_extension": ".py",
   "mimetype": "text/x-python",
   "name": "python",
   "nbconvert_exporter": "python",
   "pygments_lexer": "ipython3",
   "version": "3.7.4"
  }
 },
 "nbformat": 4,
 "nbformat_minor": 2
}
