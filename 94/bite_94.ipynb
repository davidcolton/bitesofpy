{
 "cells": [
  {
   "cell_type": "code",
   "execution_count": null,
   "metadata": {},
   "outputs": [],
   "source": [
    "from collections import namedtuple\n",
    "from copy import deepcopy\n",
    "\n",
    "import re\n",
    "import os\n",
    "import pickle\n",
    "import urllib.request\n",
    "\n",
    "# prework\n",
    "# download pickle file and store it in a tmp file\n",
    "pkl_file = \"pycon_videos.pkl\"\n",
    "data = \"http://projects.bobbelderbos.com/pcc/{}\".format(pkl_file)\n",
    "pycon_videos = os.path.join(\"/tmp\", pkl_file)\n",
    "urllib.request.urlretrieve(data, pycon_videos)\n",
    "\n",
    "# the pkl contains a list of Video namedtuples\n",
    "Video = namedtuple(\"Video\", \"id title duration metrics\")\n",
    "VideoSeconds = namedtuple(\"VideoSeconds\", \"id seconds\")\n",
    "\n",
    "\n",
    "def load_pycon_data(pycon_videos=pycon_videos):\n",
    "    \"\"\"Load the pickle file (pycon_videos) and return the data structure\n",
    "       it holds\"\"\"\n",
    "    pickle_in = open(pycon_videos, \"rb\")\n",
    "    videos = pickle.load(pickle_in)\n",
    "    pickle_in.close()\n",
    "    return videos\n",
    "\n",
    "\n",
    "def get_most_popular_talks_by_views(videos):\n",
    "    \"\"\"Return the pycon video list sorted by viewCount\"\"\"\n",
    "    return sorted(videos, key=lambda Video: int(Video.metrics['viewCount']), reverse=True)\n",
    "\n",
    "def _calculate_popularity_ratio(video):\n",
    "    view_count = float(video.metrics['viewCount'])\n",
    "    like_count = float(video.metrics['likeCount'])\n",
    "    dislike_count = float(video.metrics['dislikeCount'])\n",
    "    return (like_count - dislike_count) / view_count\n",
    "\n",
    "\n",
    "def get_most_popular_talks_by_like_ratio(videos):\n",
    "    \"\"\"Return the pycon video list sorted by most likes relative to\n",
    "       number of views, so 10 likes on 175 views ranks higher than\n",
    "       12 likes on 300 views. Discount the dislikeCount from the likeCount.\n",
    "       Return the filtered list\"\"\"\n",
    "    return sorted(videos, key=lambda Video: _calculate_popularity_ratio(Video), reverse=True)\n",
    "\n",
    "\n",
    "def _extract_video_seconds(video):\n",
    "    # There is always a minute time component\n",
    "    pattern = re.compile(r'(?P<hour>\\d{0,2}H)?(?P<min>\\d{0,2}M)(?P<sec>\\d{0,2}S)?')\n",
    "    videotime = pattern.search(video.duration)\n",
    "    \n",
    "    # Get seconds if available else initial value of 0\n",
    "    seconds = int(videotime.group('sec')[:-1]) if videotime.group('sec') else 0\n",
    "    # Always have minutes and add\n",
    "    seconds += int(videotime.group('min')[:-1]) * 60\n",
    "    # Are there hours\n",
    "    seconds += int(videotime.group('hour')[:-1]) * 3600 if videotime.group('hour') else 0\n",
    "        \n",
    "    return seconds\n",
    "    \n",
    "\n",
    "def get_talks_gt_one_hour(videos):\n",
    "    \"\"\"Filter the videos list down to videos of > 1 hour\"\"\"\n",
    "    # Return videos longer than 3600 seconds\n",
    "    return [my_video for my_video in videos if _extract_video_seconds(my_video) >= 3600]\n",
    "\n",
    "\n",
    "def get_talks_lt_twentyfour_min(videos):\n",
    "    \"\"\"Filter videos list down to videos that have a duration of less than\n",
    "       24 minutes\"\"\"\n",
    "    # Return videos shorter than 1440 seconds [24 * 60]\n",
    "    return [my_video for my_video in videos if _extract_video_seconds(my_video) < 1440]\n",
    "\n"
   ]
  },
  {
   "cell_type": "code",
   "execution_count": null,
   "metadata": {},
   "outputs": [],
   "source": [
    "videos = load_pycon_data()\n",
    "videos_copy = deepcopy(videos)\n",
    "vids = list(get_most_popular_talks_by_views(videos_copy))\n",
    "ratio_vids = list(get_most_popular_talks_by_like_ratio(videos_copy))\n"
   ]
  },
  {
   "cell_type": "code",
   "execution_count": null,
   "metadata": {},
   "outputs": [],
   "source": [
    "[v.duration for v in videos]"
   ]
  },
  {
   "cell_type": "code",
   "execution_count": null,
   "metadata": {},
   "outputs": [],
   "source": [
    "[vid.id for vid in vids[:5]]"
   ]
  },
  {
   "cell_type": "code",
   "execution_count": null,
   "metadata": {},
   "outputs": [],
   "source": [
    "[vid.id for vid in ratio_vids[:5]]"
   ]
  },
  {
   "cell_type": "code",
   "execution_count": null,
   "metadata": {},
   "outputs": [],
   "source": [
    "print(get_talks_gt_one_hour(vids))"
   ]
  },
  {
   "cell_type": "code",
   "execution_count": null,
   "metadata": {},
   "outputs": [],
   "source": [
    "print(get_talks_lt_twentyfour_min(vids))"
   ]
  },
  {
   "cell_type": "code",
   "execution_count": null,
   "metadata": {},
   "outputs": [],
   "source": []
  }
 ],
 "metadata": {
  "kernelspec": {
   "display_name": "Python 3",
   "language": "python",
   "name": "python3"
  },
  "language_info": {
   "codemirror_mode": {
    "name": "ipython",
    "version": 3
   },
   "file_extension": ".py",
   "mimetype": "text/x-python",
   "name": "python",
   "nbconvert_exporter": "python",
   "pygments_lexer": "ipython3",
   "version": "3.7.4"
  }
 },
 "nbformat": 4,
 "nbformat_minor": 2
}
