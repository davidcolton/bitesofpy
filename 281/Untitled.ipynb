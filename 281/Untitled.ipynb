{
 "cells": [
  {
   "cell_type": "code",
   "execution_count": 65,
   "metadata": {},
   "outputs": [],
   "source": [
    "import json\n",
    "import os\n",
    "import io\n",
    "from pathlib import Path\n",
    "from typing import Dict, List, Union\n",
    "\n",
    "import pandas as pd  # type: ignore\n",
    "import requests\n",
    "\n",
    "URL: str = \"https://bites-data.s3.us-east-2.amazonaws.com/MonthlySales.csv\"\n",
    "STATS: List[str] = [\"sum\", \"mean\", \"max\"]\n",
    "TMP: Path = Path(os.getenv(\"TMP\", \"/tmp\")) / \"MonthlySales.csv\"\n",
    "\n",
    "\n",
    "def get_data(url: str) -> Dict[str, str]:\n",
    "    \"\"\"Get data from Github\n",
    "\n",
    "    Args:\n",
    "        url (str): The URL where the data is located.\n",
    "\n",
    "    Returns:\n",
    "        Dict[str, str]: The dictionary extracted from the data\n",
    "    \"\"\"\n",
    "    if TMP.exists():\n",
    "        data = json.loads(TMP.read_text())\n",
    "    else:\n",
    "        response = requests.get(url)\n",
    "        response.raise_for_status()\n",
    "        data = json.loads(response.text)\n",
    "        with TMP.open(\"w\") as tmp:\n",
    "            json.dump(data, tmp)\n",
    "    return data\n",
    "\n",
    "\n",
    "def process_data(url: str) -> pd.DataFrame:\n",
    "    \"\"\"Process the data from the Github API\n",
    "\n",
    "    Args:\n",
    "        url (str): The URL where the data is located.\n",
    "\n",
    "    Returns:\n",
    "        pd.DataFrame: Pandas DataFrame generated from the processed data\n",
    "    \"\"\"\n",
    "    data = get_data(url)\n",
    "    request = requests.get(data[\"download_url\"]).content\n",
    "    df = pd.read_csv(io.StringIO(request.decode(\"utf-8\")))\n",
    "    df['year_mon'] = pd.to_datetime(df.month)\n",
    "    df['year'] = pd.DatetimeIndex(df.month).year\n",
    "    df['month'] = pd.DatetimeIndex(df.month).month\n",
    "    \n",
    "    return df\n",
    "\n",
    "# uncomment the following for viewing/testing the reports/code\n",
    "# if __name__ == \"__main__\":\n",
    "#     data = process_data(URL)\n",
    "#     summary_report(data)\n",
    "#     for year in (data[\"month\"].dt.year).unique():\n",
    "#         yearly_report(data, year)\n",
    "\n",
    "#     yearly_report(data, 2020)\n",
    "\n",
    "df = process_data(URL)"
   ]
  },
  {
   "cell_type": "code",
   "execution_count": 66,
   "metadata": {},
   "outputs": [],
   "source": [
    "def summary_report(df: pd.DataFrame, stats: Union[List[str], None] = STATS) -> None:\n",
    "    \"\"\"Summary report generated from the DataFrame and list of stats\n",
    "\n",
    "    Will aggregate statistics for sum, mean, and max by default.\n",
    "\n",
    "    Args:\n",
    "        df (pd.DataFrame): Pandas DataFrame of the Github API data\n",
    "        stats (List[str], optional): List of summaries to aggregate. Defaults to STATS.\n",
    "\n",
    "    Returns:\n",
    "        None (prints to standard output)\n",
    "\n",
    "        Example:\n",
    "                    sum          mean        max\n",
    "        year\n",
    "        2013  484247.51  40353.959167   81777.35\n",
    "        2014  470532.51  39211.042500   75972.56\n",
    "        2015  608473.83  50706.152500   97237.42\n",
    "        2016  733947.03  61162.252500  118447.83\n",
    "    \"\"\"\n",
    "    print(df.groupby(\"year\")['sales'].agg(stats))"
   ]
  },
  {
   "cell_type": "code",
   "execution_count": 67,
   "metadata": {},
   "outputs": [
    {
     "name": "stdout",
     "output_type": "stream",
     "text": [
      "            sum          mean        max\n",
      "year                                    \n",
      "2013  484247.51  40353.959167   81777.35\n",
      "2014  470532.51  39211.042500   75972.56\n",
      "2015  608473.83  50706.152500   97237.42\n",
      "2016  733947.03  61162.252500  118447.83\n"
     ]
    }
   ],
   "source": [
    "summary_report(df)"
   ]
  },
  {
   "cell_type": "code",
   "execution_count": 88,
   "metadata": {},
   "outputs": [],
   "source": [
    "def yearly_report(df: pd.DataFrame, year: int) -> None:\n",
    "    \"\"\"Generate a sales report for the given year\n",
    "\n",
    "    Args:\n",
    "        df (pd.DataFrame): Pandas DataFrame of the Github API data\n",
    "        year (int): The year to generate the report for\n",
    "\n",
    "    Raises:\n",
    "        ValueError: Error raised if the year requested is not in the data.\n",
    "        Should be in the form of \"The year YEAR is not included in the report!\"\n",
    "\n",
    "    Returns:\n",
    "        None (prints to standard output)\n",
    "\n",
    "        Example:\n",
    "        2013\n",
    "                  sales\n",
    "        month\n",
    "        1      14236.90\n",
    "        2       4519.89\n",
    "        3      55691.01\n",
    "        4      28295.35\n",
    "        5      23648.29\n",
    "        6      34595.13\n",
    "        7      33946.39\n",
    "        8      27909.47\n",
    "        9      81777.35\n",
    "        10     31453.39\n",
    "        11     78628.72\n",
    "        12     69545.62\n",
    "    \"\"\"\n",
    "    if year not in df.year.unique():\n",
    "        raise ValueError(f'The year {year} is not included in the report!')\n",
    "    mask = df.year == year\n",
    "    df_year = df[mask].copy()\n",
    "    print(f'{year}\\n\\n{df_year[[\"month\", \"sales\"]].groupby(\"month\", as_index=True).agg({\"sales\": \"sum\"})}')"
   ]
  },
  {
   "cell_type": "code",
   "execution_count": 89,
   "metadata": {},
   "outputs": [
    {
     "name": "stdout",
     "output_type": "stream",
     "text": [
      "2014\n",
      "          sales\n",
      "month          \n",
      "1      18174.08\n",
      "2      11951.41\n",
      "3      38726.25\n",
      "4      34195.21\n",
      "5      30131.69\n",
      "6      24797.29\n",
      "7      28765.33\n",
      "8      36898.33\n",
      "9      64595.92\n",
      "10     31404.92\n",
      "11     75972.56\n",
      "12     74919.52\n"
     ]
    }
   ],
   "source": [
    "yearly_report(df, 2014)"
   ]
  },
  {
   "cell_type": "code",
   "execution_count": null,
   "metadata": {},
   "outputs": [],
   "source": []
  },
  {
   "cell_type": "code",
   "execution_count": null,
   "metadata": {},
   "outputs": [],
   "source": []
  },
  {
   "cell_type": "code",
   "execution_count": null,
   "metadata": {},
   "outputs": [],
   "source": []
  },
  {
   "cell_type": "code",
   "execution_count": null,
   "metadata": {},
   "outputs": [],
   "source": []
  }
 ],
 "metadata": {
  "kernelspec": {
   "display_name": "Python 3.8.1 64-bit ('3.8.1': pyenv)",
   "language": "python",
   "name": "python38164bit381pyenv67d449f4820348c29cbc2f46afe17bf3"
  },
  "language_info": {
   "codemirror_mode": {
    "name": "ipython",
    "version": 3
   },
   "file_extension": ".py",
   "mimetype": "text/x-python",
   "name": "python",
   "nbconvert_exporter": "python",
   "pygments_lexer": "ipython3",
   "version": "3.8.1"
  }
 },
 "nbformat": 4,
 "nbformat_minor": 4
}
