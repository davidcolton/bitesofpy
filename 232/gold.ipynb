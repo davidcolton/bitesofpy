{
 "cells": [
  {
   "cell_type": "code",
   "execution_count": 77,
   "metadata": {},
   "outputs": [],
   "source": [
    "# https://pkgstore.datahub.io/core/gold-prices/annual_csv/data/343f626dd4f7bae813cfaac23fccd1bc/annual_csv.csv\n",
    "gold_prices = \"\"\"\n",
    "1950-12,34.720 1951-12,34.660 1952-12,34.790 1953-12,34.850 1954-12,35.040\n",
    "1955-12,34.970 1956-12,34.900 1957-12,34.990 1958-12,35.090 1959-12,35.050\n",
    "1960-12,35.540 1961-12,35.150 1962-12,35.080 1963-12,35.080 1964-12,35.120\n",
    "1965-12,35.130 1966-12,35.180 1967-12,35.190 1968-12,41.113 1969-12,35.189\n",
    "1970-12,37.434 1971-12,43.455 1972-12,63.779 1973-12,106.236 1974-12,183.683\n",
    "1975-12,139.279 1976-12,133.674 1977-12,160.480 1978-12,207.895 1979-12,463.666\n",
    "1980-12,596.712 1981-12,410.119 1982-12,444.776 1983-12,388.060 1984-12,319.622\n",
    "1985-12,321.985 1986-12,391.595 1987-12,487.079 1988-12,419.248 1989-12,409.655\n",
    "1990-12,378.161 1991-12,361.875 1992-12,334.657 1993-12,383.243 1994-12,379.480\n",
    "1995-12,387.445 1996-12,369.338 1997-12,288.776 1998-12,291.357 1999-12,283.743\n",
    "2000-12,271.892 2001-12,275.992 2002-12,333.300 2003-12,407.674 2004-12,442.974\n",
    "2005-12,509.423 2006-12,629.513 2007-12,803.618 2008-12,819.940 2009-12,1135.012\n",
    "2010-12,1393.512 2011-12,1652.725 2012-12,1687.342 2013-12,1221.588 2014-12,1200.440\n",
    "2015-12,1068.317 2016-12,1152.165 2017-12,1265.674 2018-12,1249.887\n",
    "\"\"\"  # noqa E501\n",
    "\n",
    "import pandas as pd\n",
    "import re\n",
    "\n",
    "def years_gold_value_decreased(gold_prices: str = gold_prices) -> (int, int):\n",
    "    \"\"\"Analyze gold_prices returning a tuple of the year the gold price\n",
    "       decreased the most and the year the gold price increased the most.\n",
    "    \"\"\"\n",
    "    df = pd.DataFrame([(x.split(',')) for x in re.split(' |\\n', gold_prices) if x != ''])\n",
    "    df.columns = ['year-month', 'price']\n",
    "    df['price'] = df['price'].astype(float)\n",
    "    df[\"diff\"] = df[\"price\"].diff(1)\n",
    "    df[['year', 'month']] = df['year-month'].str.split('-', n = 1, expand=True)\n",
    "    min_year = df[df['diff'] == df['diff'].min()].year.values[0]\n",
    "    max_year = df[df['diff'] == df['diff'].max()].year.values[0]\n",
    "    return (min_year, max_year)"
   ]
  },
  {
   "cell_type": "code",
   "execution_count": 78,
   "metadata": {},
   "outputs": [
    {
     "data": {
      "text/plain": [
       "('2013', '2009')"
      ]
     },
     "execution_count": 78,
     "metadata": {},
     "output_type": "execute_result"
    }
   ],
   "source": [
    "years_gold_value_decreased()"
   ]
  },
  {
   "cell_type": "code",
   "execution_count": null,
   "metadata": {},
   "outputs": [],
   "source": []
  }
 ],
 "metadata": {
  "kernelspec": {
   "display_name": "Python 3",
   "language": "python",
   "name": "python3"
  },
  "language_info": {
   "codemirror_mode": {
    "name": "ipython",
    "version": 3
   },
   "file_extension": ".py",
   "mimetype": "text/x-python",
   "name": "python",
   "nbconvert_exporter": "python",
   "pygments_lexer": "ipython3",
   "version": "3.7.4"
  }
 },
 "nbformat": 4,
 "nbformat_minor": 2
}
