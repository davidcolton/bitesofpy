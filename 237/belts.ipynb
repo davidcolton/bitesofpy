{
 "cells": [
  {
   "cell_type": "code",
   "execution_count": 27,
   "metadata": {},
   "outputs": [],
   "source": [
    "import json\n",
    "import pandas as pd\n",
    "from pathlib import Path\n",
    "\n",
    "SCORES = [10, 50, 100, 175, 250, 400, 600, 800, 1000]\n",
    "BELTS = (\"white yellow orange green blue brown black \" \"paneled red\").split()\n",
    "TMP = Path(\"/tmp\")\n",
    "\n",
    "\n",
    "def get_belts(data: str) -> dict:\n",
    "    \"\"\"Parsed the passed in json data:\n",
    "       {\"date\":\"5/1/2019\",\"score\":1},\n",
    "       {\"date\":\"9/13/2018\",\"score\":3},\n",
    "       {\"date\":\"10/25/2019\",\"score\":1},\n",
    "\n",
    "       Loop through the scores in chronological order,\n",
    "       determining when belts were achieved (use SCORES\n",
    "       and BELTS).\n",
    "\n",
    "       Return a dict with keys = belts, and values =\n",
    "       readable dates, example entry:\n",
    "       'yellow': 'January 25, 2018'\n",
    "    \"\"\"\n",
    "    df = pd.read_json(data)\n",
    "    return df\n",
    "\n",
    "\n",
    "\n"
   ]
  },
  {
   "cell_type": "code",
   "execution_count": 28,
   "metadata": {},
   "outputs": [],
   "source": [
    "df = get_belts(\"./bite_scores1.json\")"
   ]
  },
  {
   "cell_type": "code",
   "execution_count": 29,
   "metadata": {},
   "outputs": [],
   "source": [
    "df['date'] = pd.to_datetime(df.date)"
   ]
  },
  {
   "cell_type": "code",
   "execution_count": 30,
   "metadata": {},
   "outputs": [],
   "source": [
    "df = df.sort_values(by='date').reset_index(drop=True)"
   ]
  },
  {
   "cell_type": "code",
   "execution_count": 31,
   "metadata": {},
   "outputs": [],
   "source": [
    "belt_dict = dict(zip(SCORES, BELTS))"
   ]
  },
  {
   "cell_type": "code",
   "execution_count": 32,
   "metadata": {},
   "outputs": [],
   "source": [
    "df['cumulative_sum'] = df.score.cumsum()"
   ]
  },
  {
   "cell_type": "code",
   "execution_count": 33,
   "metadata": {},
   "outputs": [],
   "source": [
    "date = df[df.cumulative_sum >= 10].iloc[0].date"
   ]
  },
  {
   "cell_type": "code",
   "execution_count": 35,
   "metadata": {},
   "outputs": [
    {
     "name": "stdout",
     "output_type": "stream",
     "text": [
      "{'white': 'January 23, 2018', 'yellow': 'June 20, 2018', 'orange': 'October 07, 2018', 'green': 'April 08, 2019'}\n"
     ]
    }
   ],
   "source": [
    "return_dict = dict()\n",
    "\n",
    "for bitecoins, belt in belt_dict.items():\n",
    "    try:\n",
    "        if df[df.cumulative_sum >= bitecoins].iloc[0].date:\n",
    "            date_achieved = df[df.cumulative_sum >= bitecoins].iloc[0].date\n",
    "            return_dict[belt] = date_achieved.strftime(\"%B %d, %Y\")\n",
    "    except IndexError:\n",
    "        pass\n",
    "        \n",
    "print(return_dict)\n",
    "    "
   ]
  },
  {
   "cell_type": "code",
   "execution_count": null,
   "metadata": {},
   "outputs": [],
   "source": []
  }
 ],
 "metadata": {
  "kernelspec": {
   "display_name": "Python 3",
   "language": "python",
   "name": "python3"
  },
  "language_info": {
   "codemirror_mode": {
    "name": "ipython",
    "version": 3
   },
   "file_extension": ".py",
   "mimetype": "text/x-python",
   "name": "python",
   "nbconvert_exporter": "python",
   "pygments_lexer": "ipython3",
   "version": "3.7.4"
  }
 },
 "nbformat": 4,
 "nbformat_minor": 2
}
