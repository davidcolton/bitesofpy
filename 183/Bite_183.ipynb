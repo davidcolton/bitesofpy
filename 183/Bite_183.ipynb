{
 "cells": [
  {
   "cell_type": "code",
   "execution_count": null,
   "metadata": {},
   "outputs": [],
   "source": [
    "from os import path\n",
    "from urllib.request import urlretrieve\n",
    "\n",
    "import pandas as pd\n",
    "\n",
    "EXCEL = path.join(\"/tmp\", \"order_data.xlsx\")\n",
    "if not path.isfile(EXCEL):\n",
    "    urlretrieve(\"https://bit.ly/2JpniQ2\", EXCEL)"
   ]
  },
  {
   "cell_type": "code",
   "execution_count": null,
   "metadata": {},
   "outputs": [],
   "source": [
    "def load_excel_into_dataframe(excel=EXCEL):\n",
    "    \"\"\"Load the SalesOrders sheet of the excel book (EXCEL variable)\n",
    "       into a Pandas DataFrame and return it to the caller\"\"\"\n",
    "    df = pd.read_excel(open(EXCEL, \"rb\"), sheet_name=\"SalesOrders\", parse_dates=True)\n",
    "    return df"
   ]
  },
  {
   "cell_type": "code",
   "execution_count": null,
   "metadata": {},
   "outputs": [],
   "source": [
    "def get_year_region_breakdown(df):\n",
    "    \"\"\"Group the DataFrame by year and region, summing the Total\n",
    "       column. You probably need to make an extra column for\n",
    "       year, return the new df as shown in the Bite description\"\"\"\n",
    "    df['Year'] = pd.DatetimeIndex(df['OrderDate']).year\n",
    "    return df.groupby(['Year', 'Region'])['Total'].sum()"
   ]
  },
  {
   "cell_type": "code",
   "execution_count": null,
   "metadata": {},
   "outputs": [],
   "source": [
    "def get_best_sales_rep(df):\n",
    "    \"\"\"Return a tuple of the name of the sales rep and\n",
    "       the total of his/her sales\"\"\"\n",
    "    df.groupby('Rep')['Total'].sum().reset_index().sort_values('Total', ascending=False)\n",
    "    return(df_bestsales.iloc[0]['Rep'], df_bestsales.iloc[0]['Total'])"
   ]
  },
  {
   "cell_type": "code",
   "execution_count": null,
   "metadata": {},
   "outputs": [],
   "source": []
  },
  {
   "cell_type": "code",
   "execution_count": null,
   "metadata": {},
   "outputs": [],
   "source": []
  },
  {
   "cell_type": "code",
   "execution_count": null,
   "metadata": {},
   "outputs": [],
   "source": [
    "df_bestsales = df.groupby('Rep')['Total'].sum().reset_index().sort_values('Total', ascending=False)"
   ]
  },
  {
   "cell_type": "code",
   "execution_count": null,
   "metadata": {},
   "outputs": [],
   "source": [
    "df_bestsales.iloc[0]"
   ]
  },
  {
   "cell_type": "code",
   "execution_count": null,
   "metadata": {},
   "outputs": [],
   "source": [
    "df = load_excel_into_dataframe()\n",
    "get_year_region_breakdown(df)"
   ]
  },
  {
   "cell_type": "code",
   "execution_count": null,
   "metadata": {},
   "outputs": [],
   "source": []
  }
 ],
 "metadata": {
  "kernelspec": {
   "display_name": "Python 3",
   "language": "python",
   "name": "python3"
  },
  "language_info": {
   "codemirror_mode": {
    "name": "ipython",
    "version": 3
   },
   "file_extension": ".py",
   "mimetype": "text/x-python",
   "name": "python",
   "nbconvert_exporter": "python",
   "pygments_lexer": "ipython3",
   "version": "3.7.4"
  }
 },
 "nbformat": 4,
 "nbformat_minor": 2
}
