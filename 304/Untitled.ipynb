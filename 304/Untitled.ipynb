{
 "cells": [
  {
   "cell_type": "code",
   "execution_count": 1,
   "metadata": {},
   "outputs": [],
   "source": [
    "sample_text = '''It is a truth universally acknowledged, that a single man in\n",
    "                    possession of a good fortune, must be in want of a wife.'''\n",
    "with_numbers_text = '''20,000 Leagues Under the Sea is a 1954 American\n",
    "                    Technicolor science fiction-adventure film...'''\n",
    "emoji_text = 'emoji like 😃😃😃😃 are not letters'\n",
    "accents_text = 'Société Générale est une des principales banques françaises'\n",
    "mixed_case_text = 'Short Plays By Lady Gregory The Knickerbocker Press 1916'\n",
    "hyphenated_word_text = 'six-feet-two in height'\n",
    "compound_character_text = 'der Schloß is riesig'\n",
    "no_repeat_characters_text = 'the quick brown fox jumped over the lazy dog'\n",
    "non_ascii_symbols_text = '«¿Tiene sentido la TV pública?»'\n",
    "apostrophe_in_word_text = \"but we've been there already!!!\"\n",
    "underscore_torture_text = '\"____\".isalpha() is True, thus this test text'\n",
    "digit_text = '99abc99 __abc__ --abc-- digits _ and - are not letters'\n",
    "repeat_words_text = 'test test test test test correct-answer.'\n",
    "no_words_in_text = '1, 2, 3'\n",
    "empty_text = ''"
   ]
  },
  {
   "cell_type": "code",
   "execution_count": 54,
   "metadata": {},
   "outputs": [],
   "source": [
    "from typing import Tuple\n",
    "from collections import Counter\n",
    "\n",
    "\n",
    "def max_letter_word(text: str) -> Tuple[str, str, int]:\n",
    "    \"\"\"\n",
    "    Find the word in text with the most repeated letters. If more than one word\n",
    "    has the highest number of repeated letters choose the first one. Return a\n",
    "    tuple of the word, the (first) repeated letter and the count of that letter\n",
    "    in the word.\n",
    "    >>> max_letter_word('I have just returned from a visit...')\n",
    "    ('returned', 'r', 2)\n",
    "    >>> max_letter_word('$5000 !!')\n",
    "    ('', '', 0)\n",
    "    \"\"\"\n",
    "    max_word = ''\n",
    "    max_letter = ''\n",
    "    max_count = 0\n",
    "    for idx, word in enumerate(text.split(' ')):\n",
    "        most_frequent = Counter(''.join(filter(str.isalpha, word.casefold()))).most_common(1)\n",
    "        try:\n",
    "            letter, cnt = most_frequent[0]\n",
    "            if cnt > max_count:\n",
    "                max_word = word\n",
    "                max_letter = letter\n",
    "                max_count = cnt\n",
    "        except IndexError:\n",
    "            pass\n",
    "    return(max_word, max_letter, max_count)"
   ]
  },
  {
   "cell_type": "code",
   "execution_count": 56,
   "metadata": {},
   "outputs": [
    {
     "name": "stdout",
     "output_type": "stream",
     "text": [
      "Schloß s 3\n"
     ]
    }
   ],
   "source": [
    "max_letter_word(compound_character_text)"
   ]
  },
  {
   "cell_type": "code",
   "execution_count": 61,
   "metadata": {},
   "outputs": [
    {
     "data": {
      "text/plain": [
       "'pública'"
      ]
     },
     "execution_count": 61,
     "metadata": {},
     "output_type": "execute_result"
    }
   ],
   "source": [
    "''.join(filter(str.isalpha, 'pública?»'.casefold()))"
   ]
  },
  {
   "cell_type": "code",
   "execution_count": 67,
   "metadata": {},
   "outputs": [],
   "source": [
    "import string"
   ]
  },
  {
   "cell_type": "code",
   "execution_count": 68,
   "metadata": {},
   "outputs": [
    {
     "data": {
      "text/plain": [
       "'!\"#$%&\\'()*+,-./:;<=>?@[\\\\]^_`{|}~'"
      ]
     },
     "execution_count": 68,
     "metadata": {},
     "output_type": "execute_result"
    }
   ],
   "source": [
    "string.punctuation"
   ]
  },
  {
   "cell_type": "code",
   "execution_count": null,
   "metadata": {},
   "outputs": [],
   "source": []
  }
 ],
 "metadata": {
  "kernelspec": {
   "display_name": "Python 3",
   "language": "python",
   "name": "python3"
  },
  "language_info": {
   "codemirror_mode": {
    "name": "ipython",
    "version": 3
   },
   "file_extension": ".py",
   "mimetype": "text/x-python",
   "name": "python",
   "nbconvert_exporter": "python",
   "pygments_lexer": "ipython3",
   "version": "3.8.5"
  }
 },
 "nbformat": 4,
 "nbformat_minor": 4
}
